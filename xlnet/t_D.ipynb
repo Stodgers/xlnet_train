{
  "nbformat": 4,
  "nbformat_minor": 0,
  "metadata": {
    "colab": {
      "name": "t_D.ipynb",
      "version": "0.3.2",
      "provenance": [],
      "collapsed_sections": []
    },
    "kernelspec": {
      "name": "python3",
      "display_name": "Python 3"
    },
    "accelerator": "GPU"
  },
  "cells": [
    {
      "cell_type": "code",
      "metadata": {
        "id": "bD8-8ws4wsKT",
        "colab_type": "code",
        "colab": {}
      },
      "source": [
        "cd /content"
      ],
      "execution_count": 0,
      "outputs": []
    },
    {
      "cell_type": "code",
      "metadata": {
        "id": "ICPZ55sBYzue",
        "colab_type": "code",
        "colab": {}
      },
      "source": [
        "!nvidia-smi"
      ],
      "execution_count": 0,
      "outputs": []
    },
    {
      "cell_type": "code",
      "metadata": {
        "colab_type": "code",
        "id": "uPGhX_Qy8ZSg",
        "colab": {}
      },
      "source": [
        "! rm -rf xlnet_train"
      ],
      "execution_count": 0,
      "outputs": []
    },
    {
      "cell_type": "code",
      "metadata": {
        "id": "b_GfWUSGyci2",
        "colab_type": "code",
        "colab": {}
      },
      "source": [
        "! rm -rf xlnet_train\n",
        "! git clone https://github.com/Stodgers/xlnet_train.git\n",
        "! pip install sentencepiece"
      ],
      "execution_count": 0,
      "outputs": []
    },
    {
      "cell_type": "code",
      "metadata": {
        "id": "0UGoYhjqygUA",
        "colab_type": "code",
        "colab": {}
      },
      "source": [
        "cd /content/xlnet_train/data/sogou_news"
      ],
      "execution_count": 0,
      "outputs": []
    },
    {
      "cell_type": "code",
      "metadata": {
        "id": "qyQDrJ2D4Lyl",
        "colab_type": "code",
        "colab": {}
      },
      "source": [
        "! python sogou_data_utils.py"
      ],
      "execution_count": 0,
      "outputs": []
    },
    {
      "cell_type": "code",
      "metadata": {
        "id": "-zS-UxkNQTZ7",
        "colab_type": "code",
        "colab": {}
      },
      "source": [
        "cd /content/xlnet_train/data/sogou_news"
      ],
      "execution_count": 0,
      "outputs": []
    },
    {
      "cell_type": "code",
      "metadata": {
        "id": "6SjlqgWv5Qt4",
        "colab_type": "code",
        "colab": {}
      },
      "source": [
        "# con = \"spm_train \\\n",
        "# \t--input = 233.txt \\\n",
        "# \t--model_prefix = sp10m.cased.v3 \\\n",
        "# \t--vocab_size = 32000 \\\n",
        "# \t--character_coverage = 0.99995 \\\n",
        "# \t--model_type = unigram \\\n",
        "# \t--control_symbols = < cls >，< sep >，< pad >，< mask >，< eod > \\\n",
        "# \t--user_defined_symbols = < eop >，。，（，），“， - ， - ，£，€ \\\n",
        "#  \t--shuffle_input_sentence \\\n",
        "#  \t--input_sentence_size = 10000000\"\n",
        "# !{con}\n",
        "import sentencepiece as spm\n",
        "spm.SentencePieceTrainer.Train(\"--input=smarty-t233.txt --model_prefix=sp10m.cased.v3 --vocab_size=3000 --character_coverage=0.99995 --model_type=unigram --control_symbols=<cls>,<sep>,<pad>,<mask>,<eod> --user_defined_symbols=<eop>,.,(,),“,”,-,£,€ --shuffle_input_sentence --input_sentence_size=10000\")"
      ],
      "execution_count": 0,
      "outputs": []
    },
    {
      "cell_type": "code",
      "metadata": {
        "id": "0siGRV3uyjd2",
        "colab_type": "code",
        "colab": {
          "base_uri": "https://localhost:8080/",
          "height": 53
        },
        "outputId": "fb603e4d-7d70-4f30-a365-d33eff1f6f47"
      },
      "source": [
        "! mv smarty-t233.txt /content/xlnet_train/xlnet\n",
        "! mv sp10m.cased.v3.model /content/xlnet_train/xlnet"
      ],
      "execution_count": 24,
      "outputs": [
        {
          "output_type": "stream",
          "text": [
            "mv: 'smarty-t233.txt' and '/content/xlnet_train/xlnet/smarty-t233.txt' are the same file\n",
            "mv: 'sp10m.cased.v3.model' and '/content/xlnet_train/xlnet/sp10m.cased.v3.model' are the same file\n"
          ],
          "name": "stdout"
        }
      ]
    },
    {
      "cell_type": "code",
      "metadata": {
        "id": "CC5USj4Kylz-",
        "colab_type": "code",
        "colab": {}
      },
      "source": [
        "cd /content/xlnet_train/xlnet"
      ],
      "execution_count": 0,
      "outputs": []
    },
    {
      "cell_type": "code",
      "metadata": {
        "id": "SCYuZlD0is-R",
        "colab_type": "code",
        "colab": {}
      },
      "source": [
        "pip install tensorflow-gpu"
      ],
      "execution_count": 0,
      "outputs": []
    },
    {
      "cell_type": "code",
      "metadata": {
        "id": "TRysZlc4wxnl",
        "colab_type": "code",
        "colab": {}
      },
      "source": [
        "comond = \"python data_utils.py \\\n",
        "\t--bsz_per_host=4 \\\n",
        "\t--num_core_per_host=1 \\\n",
        "\t--seq_len=256 \\\n",
        "\t--reuse_len=128 \\\n",
        "\t--input_glob=smarty-t233.txt \\\n",
        "\t--save_dir=${SAVE_DIR} \\\n",
        "\t--num_passes=20 \\\n",
        "\t--bi_data=False \\\n",
        "\t--sp_path=sp10m.cased.v3.model \\\n",
        "\t--mask_alpha=6 \\\n",
        "\t--mask_beta=1 \\\n",
        "\t--num_predict=85\"\n",
        "!{comond}"
      ],
      "execution_count": 0,
      "outputs": []
    },
    {
      "cell_type": "code",
      "metadata": {
        "id": "YYnTikARy1gl",
        "colab_type": "code",
        "colab": {}
      },
      "source": [
        "comond = \"python train_gpu.py \\\n",
        "  --record_info_dir=/content/xlnet_train/xlnet/tfrecords \\\n",
        "  --train_batch_size=4 \\\n",
        "  --num_core_per_host=1 \\\n",
        "  --seq_len=256 \\\n",
        "  --reuse_len=128 \\\n",
        "  --mem_len=128 \\\n",
        "  --perm_size=128 \\\n",
        "  --n_layer=12 \\\n",
        "  --d_model=512 \\\n",
        "  --d_embed=512 \\\n",
        "  --n_head=4 \\\n",
        "  --d_head=16 \\\n",
        "  --d_inner=1024 \\\n",
        "  --untie_r=True \\\n",
        "  --mask_alpha=6 \\\n",
        "  --mask_beta=1 \\\n",
        "  --num_predict=85 \\\n",
        "  --model_dir=ch_model \\\n",
        "  --uncased=True \\\n",
        "  --bi_data=False\"\n",
        "!{comond}"
      ],
      "execution_count": 0,
      "outputs": []
    },
    {
      "cell_type": "code",
      "metadata": {
        "id": "CJxy3tRolttJ",
        "colab_type": "code",
        "colab": {}
      },
      "source": [
        ""
      ],
      "execution_count": 0,
      "outputs": []
    }
  ]
}