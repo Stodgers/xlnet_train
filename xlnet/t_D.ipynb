{
  "nbformat": 4,
  "nbformat_minor": 0,
  "metadata": {
    "colab": {
      "name": "t_D.ipynb",
      "version": "0.3.2",
      "provenance": [],
      "collapsed_sections": []
    },
    "kernelspec": {
      "name": "python3",
      "display_name": "Python 3"
    },
    "accelerator": "GPU"
  },
  "cells": [
    {
      "cell_type": "code",
      "metadata": {
        "id": "bD8-8ws4wsKT",
        "colab_type": "code",
        "outputId": "92131c4c-bf51-4909-8a3a-6a054682f443",
        "colab": {
          "base_uri": "https://localhost:8080/",
          "height": 35
        }
      },
      "source": [
        "cd /content"
      ],
      "execution_count": 92,
      "outputs": [
        {
          "output_type": "stream",
          "text": [
            "/content\n"
          ],
          "name": "stdout"
        }
      ]
    },
    {
      "cell_type": "code",
      "metadata": {
        "id": "ICPZ55sBYzue",
        "colab_type": "code",
        "colab": {
          "base_uri": "https://localhost:8080/",
          "height": 323
        },
        "outputId": "e02627e5-2619-42d7-fc7a-3c3c77366f1a"
      },
      "source": [
        "!nvidia-smi"
      ],
      "execution_count": 93,
      "outputs": [
        {
          "output_type": "stream",
          "text": [
            "Mon Jul 29 08:38:54 2019       \n",
            "+-----------------------------------------------------------------------------+\n",
            "| NVIDIA-SMI 418.67       Driver Version: 410.79       CUDA Version: 10.0     |\n",
            "|-------------------------------+----------------------+----------------------+\n",
            "| GPU  Name        Persistence-M| Bus-Id        Disp.A | Volatile Uncorr. ECC |\n",
            "| Fan  Temp  Perf  Pwr:Usage/Cap|         Memory-Usage | GPU-Util  Compute M. |\n",
            "|===============================+======================+======================|\n",
            "|   0  Tesla T4            Off  | 00000000:00:04.0 Off |                    0 |\n",
            "| N/A   65C    P8    29W /  70W |      0MiB / 15079MiB |      0%      Default |\n",
            "+-------------------------------+----------------------+----------------------+\n",
            "                                                                               \n",
            "+-----------------------------------------------------------------------------+\n",
            "| Processes:                                                       GPU Memory |\n",
            "|  GPU       PID   Type   Process name                             Usage      |\n",
            "|=============================================================================|\n",
            "|  No running processes found                                                 |\n",
            "+-----------------------------------------------------------------------------+\n"
          ],
          "name": "stdout"
        }
      ]
    },
    {
      "cell_type": "code",
      "metadata": {
        "colab_type": "code",
        "id": "uPGhX_Qy8ZSg",
        "colab": {}
      },
      "source": [
        "! rm -rf xlnet_train"
      ],
      "execution_count": 0,
      "outputs": []
    },
    {
      "cell_type": "code",
      "metadata": {
        "id": "b_GfWUSGyci2",
        "colab_type": "code",
        "outputId": "935dc513-90d7-4e09-81d5-d5587c546c06",
        "colab": {
          "base_uri": "https://localhost:8080/",
          "height": 161
        }
      },
      "source": [
        "! rm -rf xlnet_train\n",
        "! git clone https://github.com/Stodgers/xlnet_train.git\n",
        "! pip install sentencepiece"
      ],
      "execution_count": 95,
      "outputs": [
        {
          "output_type": "stream",
          "text": [
            "Cloning into 'xlnet_train'...\n",
            "remote: Enumerating objects: 148, done.\u001b[K\n",
            "remote: Counting objects: 100% (148/148), done.\u001b[K\n",
            "remote: Compressing objects: 100% (99/99), done.\u001b[K\n",
            "remote: Total 148 (delta 48), reused 131 (delta 33), pack-reused 0\u001b[K\n",
            "Receiving objects: 100% (148/148), 1.83 MiB | 4.59 MiB/s, done.\n",
            "Resolving deltas: 100% (48/48), done.\n",
            "Requirement already satisfied: sentencepiece in /usr/local/lib/python3.6/dist-packages (0.1.82)\n"
          ],
          "name": "stdout"
        }
      ]
    },
    {
      "cell_type": "code",
      "metadata": {
        "id": "0UGoYhjqygUA",
        "colab_type": "code",
        "outputId": "bcb1546e-f3a9-4e4f-86b6-adb654e5153d",
        "colab": {
          "base_uri": "https://localhost:8080/",
          "height": 35
        }
      },
      "source": [
        "cd /content/xlnet_train/data/sogou_news"
      ],
      "execution_count": 96,
      "outputs": [
        {
          "output_type": "stream",
          "text": [
            "/content/xlnet_train/data/sogou_news\n"
          ],
          "name": "stdout"
        }
      ]
    },
    {
      "cell_type": "code",
      "metadata": {
        "id": "qyQDrJ2D4Lyl",
        "colab_type": "code",
        "colab": {
          "base_uri": "https://localhost:8080/",
          "height": 35
        },
        "outputId": "48ec51da-d83a-498f-9d7d-dfe388ce1118"
      },
      "source": [
        "! python sogou_data_utils.py"
      ],
      "execution_count": 97,
      "outputs": [
        {
          "output_type": "stream",
          "text": [
            "T-news_sohusite_xml.smarty.txt\n"
          ],
          "name": "stdout"
        }
      ]
    },
    {
      "cell_type": "code",
      "metadata": {
        "id": "-zS-UxkNQTZ7",
        "colab_type": "code",
        "outputId": "fc16779c-1416-4054-9056-c62e3d0edcc0",
        "colab": {
          "base_uri": "https://localhost:8080/",
          "height": 35
        }
      },
      "source": [
        "cd /content/xlnet_train/data/sogou_news"
      ],
      "execution_count": 98,
      "outputs": [
        {
          "output_type": "stream",
          "text": [
            "/content/xlnet_train/data/sogou_news\n"
          ],
          "name": "stdout"
        }
      ]
    },
    {
      "cell_type": "code",
      "metadata": {
        "id": "6SjlqgWv5Qt4",
        "colab_type": "code",
        "outputId": "0591548b-e67a-492f-a5a0-be66a366bba7",
        "colab": {
          "base_uri": "https://localhost:8080/",
          "height": 35
        }
      },
      "source": [
        "# con = \"spm_train \\\n",
        "# \t--input = 233.txt \\\n",
        "# \t--model_prefix = sp10m.cased.v3 \\\n",
        "# \t--vocab_size = 32000 \\\n",
        "# \t--character_coverage = 0.99995 \\\n",
        "# \t--model_type = unigram \\\n",
        "# \t--control_symbols = < cls >，< sep >，< pad >，< mask >，< eod > \\\n",
        "# \t--user_defined_symbols = < eop >，。，（，），“， - ， - ，£，€ \\\n",
        "#  \t--shuffle_input_sentence \\\n",
        "#  \t--input_sentence_size = 10000000\"\n",
        "# !{con}\n",
        "import sentencepiece as spm\n",
        "spm.SentencePieceTrainer.Train(\"--input=T-news_sohusite_xml.smarty.txt --model_prefix=sp10m.cased.v3 --vocab_size=3000 --character_coverage=0.99995 --model_type=unigram --control_symbols=<cls>,<sep>,<pad>,<mask>,<eod> --user_defined_symbols=<eop>,.,(,),“,”,-,£,€ --shuffle_input_sentence --input_sentence_size=10000\")"
      ],
      "execution_count": 99,
      "outputs": [
        {
          "output_type": "execute_result",
          "data": {
            "text/plain": [
              "True"
            ]
          },
          "metadata": {
            "tags": []
          },
          "execution_count": 99
        }
      ]
    },
    {
      "cell_type": "code",
      "metadata": {
        "id": "0siGRV3uyjd2",
        "colab_type": "code",
        "colab": {}
      },
      "source": [
        "! mv T-news_sohusite_xml.smarty.txt /content/xlnet_train/xlnet\n",
        "! mv sp10m.cased.v3.model /content/xlnet_train/xlnet\n",
        "! mv sp10m.cased.v3.vocab /content/xlnet_train/xlnet"
      ],
      "execution_count": 0,
      "outputs": []
    },
    {
      "cell_type": "code",
      "metadata": {
        "id": "CC5USj4Kylz-",
        "colab_type": "code",
        "outputId": "a118cf62-b57a-46bd-968e-14ad8cac78ce",
        "colab": {
          "base_uri": "https://localhost:8080/",
          "height": 35
        }
      },
      "source": [
        "cd /content/xlnet_train/xlnet"
      ],
      "execution_count": 101,
      "outputs": [
        {
          "output_type": "stream",
          "text": [
            "/content/xlnet_train/xlnet\n"
          ],
          "name": "stdout"
        }
      ]
    },
    {
      "cell_type": "code",
      "metadata": {
        "id": "SCYuZlD0is-R",
        "colab_type": "code",
        "outputId": "4f11cdfa-78e6-4cd5-ea24-a6991fc5a17c",
        "colab": {
          "base_uri": "https://localhost:8080/",
          "height": 397
        }
      },
      "source": [
        "pip install tensorflow-gpu==1.14"
      ],
      "execution_count": 102,
      "outputs": [
        {
          "output_type": "stream",
          "text": [
            "Requirement already satisfied: tensorflow-gpu==1.14 in /usr/local/lib/python3.6/dist-packages (1.14.0)\n",
            "Requirement already satisfied: absl-py>=0.7.0 in /usr/local/lib/python3.6/dist-packages (from tensorflow-gpu==1.14) (0.7.1)\n",
            "Requirement already satisfied: tensorflow-estimator<1.15.0rc0,>=1.14.0rc0 in /usr/local/lib/python3.6/dist-packages (from tensorflow-gpu==1.14) (1.14.0)\n",
            "Requirement already satisfied: protobuf>=3.6.1 in /usr/local/lib/python3.6/dist-packages (from tensorflow-gpu==1.14) (3.7.1)\n",
            "Requirement already satisfied: keras-preprocessing>=1.0.5 in /usr/local/lib/python3.6/dist-packages (from tensorflow-gpu==1.14) (1.1.0)\n",
            "Requirement already satisfied: tensorboard<1.15.0,>=1.14.0 in /usr/local/lib/python3.6/dist-packages (from tensorflow-gpu==1.14) (1.14.0)\n",
            "Requirement already satisfied: gast>=0.2.0 in /usr/local/lib/python3.6/dist-packages (from tensorflow-gpu==1.14) (0.2.2)\n",
            "Requirement already satisfied: termcolor>=1.1.0 in /usr/local/lib/python3.6/dist-packages (from tensorflow-gpu==1.14) (1.1.0)\n",
            "Requirement already satisfied: wheel>=0.26 in /usr/local/lib/python3.6/dist-packages (from tensorflow-gpu==1.14) (0.33.4)\n",
            "Requirement already satisfied: grpcio>=1.8.6 in /usr/local/lib/python3.6/dist-packages (from tensorflow-gpu==1.14) (1.15.0)\n",
            "Requirement already satisfied: numpy<2.0,>=1.14.5 in /usr/local/lib/python3.6/dist-packages (from tensorflow-gpu==1.14) (1.16.4)\n",
            "Requirement already satisfied: keras-applications>=1.0.6 in /usr/local/lib/python3.6/dist-packages (from tensorflow-gpu==1.14) (1.0.8)\n",
            "Requirement already satisfied: six>=1.10.0 in /usr/local/lib/python3.6/dist-packages (from tensorflow-gpu==1.14) (1.12.0)\n",
            "Requirement already satisfied: astor>=0.6.0 in /usr/local/lib/python3.6/dist-packages (from tensorflow-gpu==1.14) (0.8.0)\n",
            "Requirement already satisfied: wrapt>=1.11.1 in /usr/local/lib/python3.6/dist-packages (from tensorflow-gpu==1.14) (1.11.2)\n",
            "Requirement already satisfied: google-pasta>=0.1.6 in /usr/local/lib/python3.6/dist-packages (from tensorflow-gpu==1.14) (0.1.7)\n",
            "Requirement already satisfied: setuptools in /usr/local/lib/python3.6/dist-packages (from protobuf>=3.6.1->tensorflow-gpu==1.14) (41.0.1)\n",
            "Requirement already satisfied: werkzeug>=0.11.15 in /usr/local/lib/python3.6/dist-packages (from tensorboard<1.15.0,>=1.14.0->tensorflow-gpu==1.14) (0.15.5)\n",
            "Requirement already satisfied: markdown>=2.6.8 in /usr/local/lib/python3.6/dist-packages (from tensorboard<1.15.0,>=1.14.0->tensorflow-gpu==1.14) (3.1.1)\n",
            "Requirement already satisfied: h5py in /usr/local/lib/python3.6/dist-packages (from keras-applications>=1.0.6->tensorflow-gpu==1.14) (2.8.0)\n"
          ],
          "name": "stdout"
        }
      ]
    },
    {
      "cell_type": "code",
      "metadata": {
        "id": "TRysZlc4wxnl",
        "colab_type": "code",
        "outputId": "4805899b-7da1-4473-8a8e-850ddc469feb",
        "colab": {
          "base_uri": "https://localhost:8080/",
          "height": 595
        }
      },
      "source": [
        "comond = \"python data_utils.py \\\n",
        "\t--bsz_per_host=8 \\\n",
        "\t--num_core_per_host=1 \\\n",
        "\t--seq_len=128 \\\n",
        "\t--reuse_len=64 \\\n",
        "\t--input_glob=T-news_sohusite_xml.smarty.txt \\\n",
        "\t--save_dir=tf_info\\\n",
        "\t--num_passes=20 \\\n",
        "\t--bi_data=False \\\n",
        "\t--sp_path=sp10m.cased.v3.model \\\n",
        "\t--mask_alpha=6 \\\n",
        "\t--mask_beta=1 \\\n",
        "\t--num_predict=21\"\n",
        "!{comond}"
      ],
      "execution_count": 103,
      "outputs": [
        {
          "output_type": "stream",
          "text": [
            "WARNING: Logging before flag parsing goes to stderr.\n",
            "W0729 08:39:20.215664 140408673802112 deprecation_wrapper.py:119] From data_utils.py:914: The name tf.logging.set_verbosity is deprecated. Please use tf.compat.v1.logging.set_verbosity instead.\n",
            "\n",
            "W0729 08:39:20.215926 140408673802112 deprecation_wrapper.py:119] From data_utils.py:914: The name tf.logging.INFO is deprecated. Please use tf.compat.v1.logging.INFO instead.\n",
            "\n",
            "W0729 08:39:20.216053 140408673802112 deprecation_wrapper.py:119] From data_utils.py:915: The name tf.app.run is deprecated. Please use tf.compat.v1.app.run instead.\n",
            "\n",
            "W0729 08:39:20.216763 140408673802112 deprecation_wrapper.py:119] From data_utils.py:181: The name tf.gfile.Exists is deprecated. Please use tf.io.gfile.exists instead.\n",
            "\n",
            "W0729 08:39:20.216945 140408673802112 deprecation_wrapper.py:119] From data_utils.py:182: The name tf.gfile.MakeDirs is deprecated. Please use tf.io.gfile.makedirs instead.\n",
            "\n",
            "W0729 08:39:20.217258 140408673802112 deprecation_wrapper.py:119] From data_utils.py:206: The name tf.gfile.Open is deprecated. Please use tf.io.gfile.GFile instead.\n",
            "\n",
            "W0729 08:39:20.217686 140408673802112 deprecation_wrapper.py:119] From data_utils.py:210: The name tf.gfile.Glob is deprecated. Please use tf.io.gfile.glob instead.\n",
            "\n",
            "W0729 08:39:20.218831 140408673802112 deprecation_wrapper.py:119] From data_utils.py:211: The name tf.logging.info is deprecated. Please use tf.compat.v1.logging.info instead.\n",
            "\n",
            "I0729 08:39:20.218941 140408673802112 data_utils.py:211] Use glob: T-news_sohusite_xml.smarty.txt\n",
            "I0729 08:39:20.219549 140408673802112 data_utils.py:212] Find 1 files: ['./T-news_sohusite_xml.smarty.txt']\n",
            "I0729 08:39:20.219628 140408673802112 data_utils.py:220] Task 0 process 1 files: ['./T-news_sohusite_xml.smarty.txt']\n",
            "I0729 08:39:20.224894 140408673802112 data_utils.py:89] Processing ./T-news_sohusite_xml.smarty.txt\n",
            "I0729 08:39:20.225587 140408673802112 data_utils.py:92] Loading line 0\n",
            "I0729 08:39:20.374755 140408673802112 data_utils.py:112] Finish with line 164\n",
            "I0729 08:39:20.383570 140408673802112 data_utils.py:122] [Task 0] Total number line: 164\n",
            "I0729 08:39:20.384124 140408673802112 data_utils.py:133] Using perm indices [0] for pass 0\n",
            "I0729 08:39:20.384484 140408673802112 data_utils.py:419] Raw data shape (8, 9844).\n",
            "W0729 08:39:20.384687 140408673802112 deprecation_wrapper.py:119] From data_utils.py:434: The name tf.python_io.TFRecordWriter is deprecated. Please use tf.io.TFRecordWriter instead.\n",
            "\n",
            "I0729 08:39:20.384938 140408673802112 data_utils.py:435] Start writing tf_info/tfrecords/train-0-0.bsz-8.seqlen-128.reuse-64.uncased.uni.alpha-6.beta-1.fnp-21.tfrecords.\n",
            "I0729 08:39:20.385055 140408673802112 data_utils.py:450] Processing batch 0\n",
            "I0729 08:39:24.017169 140408673802112 data_utils.py:523] Done writing tf_info/tfrecords/train-0-0.bsz-8.seqlen-128.reuse-64.uncased.uni.alpha-6.beta-1.fnp-21.tfrecords. Num of batches: 152\n"
          ],
          "name": "stdout"
        }
      ]
    },
    {
      "cell_type": "code",
      "metadata": {
        "id": "YYnTikARy1gl",
        "colab_type": "code",
        "outputId": "b74c7164-1bba-4eeb-b457-a2a9eadf1679",
        "colab": {
          "base_uri": "https://localhost:8080/",
          "height": 1000
        }
      },
      "source": [
        "comond = \"python train_gpu.py \\\n",
        "  --record_info_dir=tf_info/tfrecords \\\n",
        "  --train_batch_size=8 \\\n",
        "  --num_core_per_host=1 \\\n",
        "  --seq_len=128 \\\n",
        "  --reuse_len=64 \\\n",
        "  --mem_len=96 \\\n",
        "  --perm_size=64 \\\n",
        "  --n_layer=6 \\\n",
        "  --d_model=1024 \\\n",
        "  --d_embed=1024 \\\n",
        "  --n_head=16 \\\n",
        "  --d_head=64 \\\n",
        "  --d_inner=4096 \\\n",
        "  --untie_r=true \\\n",
        "  --mask_alpha=6 \\\n",
        "  --mask_beta=1 \\\n",
        "  --num_predict=21 \\\n",
        "  --model_dir=ch_model \\\n",
        "  --uncased=true \\\n",
        "  --bi_data=False \\\n",
        "  --save_steps=1000\"\n",
        "!{comond}"
      ],
      "execution_count": 0,
      "outputs": [
        {
          "output_type": "stream",
          "text": [
            "WARNING: Logging before flag parsing goes to stderr.\n",
            "W0729 08:39:28.767211 139915755067264 deprecation_wrapper.py:119] From /content/xlnet_train/xlnet/model_utils.py:295: The name tf.train.Optimizer is deprecated. Please use tf.compat.v1.train.Optimizer instead.\n",
            "\n",
            "W0729 08:39:28.777159 139915755067264 deprecation_wrapper.py:119] From train_gpu.py:328: The name tf.app.run is deprecated. Please use tf.compat.v1.app.run instead.\n",
            "\n",
            "W0729 08:39:28.777740 139915755067264 deprecation_wrapper.py:119] From train_gpu.py:315: The name tf.logging.set_verbosity is deprecated. Please use tf.compat.v1.logging.set_verbosity instead.\n",
            "\n",
            "W0729 08:39:28.777890 139915755067264 deprecation_wrapper.py:119] From train_gpu.py:315: The name tf.logging.INFO is deprecated. Please use tf.compat.v1.logging.INFO instead.\n",
            "\n",
            "W0729 08:39:28.777999 139915755067264 deprecation_wrapper.py:119] From train_gpu.py:319: The name tf.logging.info is deprecated. Please use tf.compat.v1.logging.info instead.\n",
            "\n",
            "I0729 08:39:28.778070 139915755067264 train_gpu.py:319] n_token 32000\n",
            "W0729 08:39:28.778180 139915755067264 deprecation_wrapper.py:119] From train_gpu.py:321: The name tf.gfile.Exists is deprecated. Please use tf.io.gfile.exists instead.\n",
            "\n",
            "W0729 08:39:28.778345 139915755067264 deprecation_wrapper.py:119] From train_gpu.py:322: The name tf.gfile.MakeDirs is deprecated. Please use tf.io.gfile.makedirs instead.\n",
            "\n",
            "I0729 08:39:28.778556 139915755067264 data_utils.py:795] Use the following tfrecord dirs: ['tf_info/tfrecords']\n",
            "I0729 08:39:28.778667 139915755067264 data_utils.py:799] [0] Record glob: tf_info/tfrecords/record_info-train-*.bsz-8.seqlen-128.reuse-64.uncased.uni.alpha-6.beta-1.fnp-21.json\n",
            "W0729 08:39:28.778760 139915755067264 deprecation_wrapper.py:119] From /content/xlnet_train/xlnet/data_utils.py:801: The name tf.gfile.Glob is deprecated. Please use tf.io.gfile.glob instead.\n",
            "\n",
            "I0729 08:39:28.779290 139915755067264 data_utils.py:803] [0] Num of record info path: 1\n",
            "W0729 08:39:28.779455 139915755067264 deprecation_wrapper.py:119] From /content/xlnet_train/xlnet/data_utils.py:816: The name tf.gfile.Open is deprecated. Please use tf.io.gfile.GFile instead.\n",
            "\n",
            "I0729 08:39:28.779983 139915755067264 data_utils.py:836] [Dir 0] Number of chosen batches: 152\n",
            "I0729 08:39:28.780075 139915755067264 data_utils.py:838] [Dir 0] Number of chosen files: 1\n",
            "I0729 08:39:28.780140 139915755067264 data_utils.py:839] ['tf_info/tfrecords/train-0-0.bsz-8.seqlen-128.reuse-64.uncased.uni.alpha-6.beta-1.fnp-21.tfrecords']\n",
            "I0729 08:39:28.780204 139915755067264 data_utils.py:846] Total number of batches: 152\n",
            "I0729 08:39:28.780797 139915755067264 data_utils.py:848] Total number of files: 1\n",
            "I0729 08:39:28.780911 139915755067264 data_utils.py:849] ['tf_info/tfrecords/train-0-0.bsz-8.seqlen-128.reuse-64.uncased.uni.alpha-6.beta-1.fnp-21.tfrecords']\n",
            "I0729 08:39:28.780974 139915755067264 train_gpu.py:204] num of batches 152\n",
            "I0729 08:39:28.781044 139915755067264 data_utils.py:555] Host 0 handles 1 files\n",
            "W0729 08:39:28.809216 139915755067264 deprecation_wrapper.py:119] From /content/xlnet_train/xlnet/data_utils.py:661: The name tf.FixedLenFeature is deprecated. Please use tf.io.FixedLenFeature instead.\n",
            "\n",
            "W0729 08:39:28.809385 139915755067264 deprecation_wrapper.py:119] From /content/xlnet_train/xlnet/data_utils.py:669: The name tf.parse_single_example is deprecated. Please use tf.io.parse_single_example instead.\n",
            "\n",
            "W0729 08:39:28.826791 139915755067264 deprecation_wrapper.py:119] From /content/xlnet_train/xlnet/data_utils.py:597: The name tf.random_shuffle is deprecated. Please use tf.random.shuffle instead.\n",
            "\n",
            "W0729 08:39:28.835287 139915755067264 deprecation.py:323] From /content/xlnet_train/xlnet/data_utils.py:614: add_dispatch_support.<locals>.wrapper (from tensorflow.python.ops.array_ops) is deprecated and will be removed in a future version.\n",
            "Instructions for updating:\n",
            "Use tf.where in 2.0, which has the same broadcast rule as np.where\n",
            "I0729 08:39:28.982943 139915755067264 data_utils.py:744] label: Tensor(\"Cast_6:0\", shape=(1,), dtype=int32)\n",
            "I0729 08:39:28.983253 139915755067264 data_utils.py:744] seg_id: Tensor(\"Cast_7:0\", shape=(128,), dtype=int32)\n",
            "I0729 08:39:28.983401 139915755067264 data_utils.py:744] target_mapping: Tensor(\"Reshape_4:0\", shape=(21, 128), dtype=float32)\n",
            "I0729 08:39:28.983556 139915755067264 data_utils.py:744] target: Tensor(\"Cast_8:0\", shape=(21,), dtype=int32)\n",
            "I0729 08:39:28.983689 139915755067264 data_utils.py:744] target_mask: Tensor(\"Reshape_6:0\", shape=(21,), dtype=float32)\n",
            "I0729 08:39:28.983819 139915755067264 data_utils.py:744] perm_mask: Tensor(\"Reshape_7:0\", shape=(128, 128), dtype=float32)\n",
            "I0729 08:39:28.983943 139915755067264 data_utils.py:744] input_k: Tensor(\"Cast_9:0\", shape=(128,), dtype=int32)\n",
            "I0729 08:39:28.984059 139915755067264 data_utils.py:744] input_q: Tensor(\"Reshape_9:0\", shape=(128,), dtype=float32)\n",
            "W0729 08:39:29.017992 139915755067264 deprecation.py:323] From train_gpu.py:214: DatasetV1.make_one_shot_iterator (from tensorflow.python.data.ops.dataset_ops) is deprecated and will be removed in a future version.\n",
            "Instructions for updating:\n",
            "Use `for ... in dataset:` to iterate over a dataset. If using `tf.estimator`, return the `Dataset` object directly from your input function. As a last resort, you can use `tf.compat.v1.data.make_one_shot_iterator(dataset)`.\n",
            "W0729 08:39:29.033573 139915755067264 deprecation_wrapper.py:119] From train_gpu.py:231: The name tf.variable_scope is deprecated. Please use tf.compat.v1.variable_scope instead.\n",
            "\n",
            "W0729 08:39:29.033741 139915755067264 deprecation_wrapper.py:119] From train_gpu.py:231: The name tf.get_variable_scope is deprecated. Please use tf.compat.v1.get_variable_scope instead.\n",
            "\n",
            "I0729 08:39:29.046340 139915755067264 modeling.py:453] memory input [<tf.Tensor 'Placeholder:0' shape=(96, 8, 1024) dtype=float32>, <tf.Tensor 'Placeholder_1:0' shape=(96, 8, 1024) dtype=float32>, <tf.Tensor 'Placeholder_2:0' shape=(96, 8, 1024) dtype=float32>, <tf.Tensor 'Placeholder_3:0' shape=(96, 8, 1024) dtype=float32>, <tf.Tensor 'Placeholder_4:0' shape=(96, 8, 1024) dtype=float32>, <tf.Tensor 'Placeholder_5:0' shape=(96, 8, 1024) dtype=float32>]\n",
            "I0729 08:39:29.046501 139915755067264 modeling.py:455] Use float type <dtype: 'float32'>\n",
            "W0729 08:39:29.108453 139915755067264 deprecation.py:506] From /usr/local/lib/python3.6/dist-packages/tensorflow/python/ops/init_ops.py:1251: calling VarianceScaling.__init__ (from tensorflow.python.ops.init_ops) with dtype is deprecated and will be removed in a future version.\n",
            "Instructions for updating:\n",
            "Call initializer instance with the dtype argument instead of passing it to the constructor\n",
            "W0729 08:39:29.122114 139915755067264 deprecation.py:323] From /content/xlnet_train/xlnet/modeling.py:535: dropout (from tensorflow.python.layers.core) is deprecated and will be removed in a future version.\n",
            "Instructions for updating:\n",
            "Use keras.layers.dropout instead.\n",
            "W0729 08:39:30.328277 139915755067264 lazy_loader.py:50] \n",
            "The TensorFlow contrib module will not be included in TensorFlow 2.0.\n",
            "For more information, please see:\n",
            "  * https://github.com/tensorflow/community/blob/master/rfcs/20180907-contrib-sunset.md\n",
            "  * https://github.com/tensorflow/addons\n",
            "  * https://github.com/tensorflow/io (for I/O related ops)\n",
            "If you depend on functionality not listed there, please file an issue.\n",
            "\n",
            "W0729 08:39:30.494009 139915755067264 deprecation.py:323] From /content/xlnet_train/xlnet/modeling.py:67: dense (from tensorflow.python.layers.core) is deprecated and will be removed in a future version.\n",
            "Instructions for updating:\n",
            "Use keras.layers.dense instead.\n",
            "I0729 08:39:33.171225 139915755067264 train_gpu.py:142] #params: 114675968\n",
            "W0729 08:39:37.429548 139915755067264 deprecation_wrapper.py:119] From /content/xlnet_train/xlnet/model_utils.py:96: The name tf.train.get_or_create_global_step is deprecated. Please use tf.compat.v1.train.get_or_create_global_step instead.\n",
            "\n",
            "W0729 08:39:37.433078 139915755067264 deprecation_wrapper.py:119] From /content/xlnet_train/xlnet/model_utils.py:108: The name tf.train.polynomial_decay is deprecated. Please use tf.compat.v1.train.polynomial_decay instead.\n",
            "\n",
            "W0729 08:39:37.438475 139915755067264 deprecation.py:323] From /usr/local/lib/python3.6/dist-packages/tensorflow/python/keras/optimizer_v2/learning_rate_schedule.py:409: div (from tensorflow.python.ops.math_ops) is deprecated and will be removed in a future version.\n",
            "Instructions for updating:\n",
            "Deprecated in favor of operator or tf.math.divide.\n",
            "W0729 08:39:37.444610 139915755067264 deprecation_wrapper.py:119] From /content/xlnet_train/xlnet/model_utils.py:131: The name tf.train.AdamOptimizer is deprecated. Please use tf.compat.v1.train.AdamOptimizer instead.\n",
            "\n",
            "W0729 08:39:38.815107 139915755067264 deprecation_wrapper.py:119] From train_gpu.py:259: The name tf.train.get_global_step is deprecated. Please use tf.compat.v1.train.get_global_step instead.\n",
            "\n",
            "2019-07-29 08:39:39.047816: I tensorflow/core/platform/cpu_feature_guard.cc:142] Your CPU supports instructions that this TensorFlow binary was not compiled to use: AVX2 FMA\n",
            "2019-07-29 08:39:39.053558: I tensorflow/stream_executor/platform/default/dso_loader.cc:42] Successfully opened dynamic library libcuda.so.1\n",
            "2019-07-29 08:39:39.230939: I tensorflow/stream_executor/cuda/cuda_gpu_executor.cc:1005] successful NUMA node read from SysFS had negative value (-1), but there must be at least one NUMA node, so returning NUMA node zero\n",
            "2019-07-29 08:39:39.231503: I tensorflow/compiler/xla/service/service.cc:168] XLA service 0x32baa00 executing computations on platform CUDA. Devices:\n",
            "2019-07-29 08:39:39.231554: I tensorflow/compiler/xla/service/service.cc:175]   StreamExecutor device (0): Tesla T4, Compute Capability 7.5\n",
            "2019-07-29 08:39:39.233803: I tensorflow/core/platform/profile_utils/cpu_utils.cc:94] CPU Frequency: 2200000000 Hz\n",
            "2019-07-29 08:39:39.234090: I tensorflow/compiler/xla/service/service.cc:168] XLA service 0x32bb2c0 executing computations on platform Host. Devices:\n",
            "2019-07-29 08:39:39.234126: I tensorflow/compiler/xla/service/service.cc:175]   StreamExecutor device (0): <undefined>, <undefined>\n",
            "2019-07-29 08:39:39.234311: I tensorflow/stream_executor/cuda/cuda_gpu_executor.cc:1005] successful NUMA node read from SysFS had negative value (-1), but there must be at least one NUMA node, so returning NUMA node zero\n",
            "2019-07-29 08:39:39.234787: I tensorflow/core/common_runtime/gpu/gpu_device.cc:1640] Found device 0 with properties: \n",
            "name: Tesla T4 major: 7 minor: 5 memoryClockRate(GHz): 1.59\n",
            "pciBusID: 0000:00:04.0\n",
            "2019-07-29 08:39:39.235178: I tensorflow/stream_executor/platform/default/dso_loader.cc:42] Successfully opened dynamic library libcudart.so.10.0\n",
            "2019-07-29 08:39:39.237008: I tensorflow/stream_executor/platform/default/dso_loader.cc:42] Successfully opened dynamic library libcublas.so.10.0\n",
            "2019-07-29 08:39:39.238460: I tensorflow/stream_executor/platform/default/dso_loader.cc:42] Successfully opened dynamic library libcufft.so.10.0\n",
            "2019-07-29 08:39:39.238903: I tensorflow/stream_executor/platform/default/dso_loader.cc:42] Successfully opened dynamic library libcurand.so.10.0\n",
            "2019-07-29 08:39:39.240992: I tensorflow/stream_executor/platform/default/dso_loader.cc:42] Successfully opened dynamic library libcusolver.so.10.0\n",
            "2019-07-29 08:39:39.242164: I tensorflow/stream_executor/platform/default/dso_loader.cc:42] Successfully opened dynamic library libcusparse.so.10.0\n",
            "2019-07-29 08:39:39.247251: I tensorflow/stream_executor/platform/default/dso_loader.cc:42] Successfully opened dynamic library libcudnn.so.7\n",
            "2019-07-29 08:39:39.247380: I tensorflow/stream_executor/cuda/cuda_gpu_executor.cc:1005] successful NUMA node read from SysFS had negative value (-1), but there must be at least one NUMA node, so returning NUMA node zero\n",
            "2019-07-29 08:39:39.247851: I tensorflow/stream_executor/cuda/cuda_gpu_executor.cc:1005] successful NUMA node read from SysFS had negative value (-1), but there must be at least one NUMA node, so returning NUMA node zero\n",
            "2019-07-29 08:39:39.248197: I tensorflow/core/common_runtime/gpu/gpu_device.cc:1763] Adding visible gpu devices: 0\n",
            "2019-07-29 08:39:39.248252: I tensorflow/stream_executor/platform/default/dso_loader.cc:42] Successfully opened dynamic library libcudart.so.10.0\n",
            "2019-07-29 08:39:39.249243: I tensorflow/core/common_runtime/gpu/gpu_device.cc:1181] Device interconnect StreamExecutor with strength 1 edge matrix:\n",
            "2019-07-29 08:39:39.249277: I tensorflow/core/common_runtime/gpu/gpu_device.cc:1187]      0 \n",
            "2019-07-29 08:39:39.249288: I tensorflow/core/common_runtime/gpu/gpu_device.cc:1200] 0:   N \n",
            "2019-07-29 08:39:39.249621: I tensorflow/stream_executor/cuda/cuda_gpu_executor.cc:1005] successful NUMA node read from SysFS had negative value (-1), but there must be at least one NUMA node, so returning NUMA node zero\n",
            "2019-07-29 08:39:39.250029: I tensorflow/stream_executor/cuda/cuda_gpu_executor.cc:1005] successful NUMA node read from SysFS had negative value (-1), but there must be at least one NUMA node, so returning NUMA node zero\n",
            "2019-07-29 08:39:39.250380: I tensorflow/core/common_runtime/gpu/gpu_device.cc:1326] Created TensorFlow device (/job:localhost/replica:0/task:0/device:GPU:0 with 14202 MB memory) -> physical GPU (device: 0, name: Tesla T4, pci bus id: 0000:00:04.0, compute capability: 7.5)\n",
            "2019-07-29 08:39:46.557638: I tensorflow/stream_executor/platform/default/dso_loader.cc:42] Successfully opened dynamic library libcublas.so.10.0\n",
            "I0729 08:45:34.760954 139915755067264 train_gpu.py:300] [1000] | gnorm 2.33 lr 0.000099 | loss 6.38 | pplx  588.59, bpc  9.2011\n",
            "I0729 08:45:44.824751 139915755067264 train_gpu.py:306] Model saved in path: ch_model/model.ckpt\n",
            "I0729 08:51:37.939217 139915755067264 train_gpu.py:300] [2000] | gnorm 2.87 lr 0.000098 | loss 6.13 | pplx  459.29, bpc  8.8433\n",
            "I0729 08:51:47.055083 139915755067264 train_gpu.py:306] Model saved in path: ch_model/model.ckpt\n",
            "I0729 08:57:40.068552 139915755067264 train_gpu.py:300] [3000] | gnorm 2.42 lr 0.000097 | loss 6.13 | pplx  461.37, bpc  8.8498\n",
            "I0729 08:57:49.223192 139915755067264 train_gpu.py:306] Model saved in path: ch_model/model.ckpt\n",
            "I0729 09:03:41.508706 139915755067264 train_gpu.py:300] [4000] | gnorm 2.26 lr 0.000096 | loss 6.23 | pplx  506.91, bpc  8.9856\n"
          ],
          "name": "stdout"
        }
      ]
    }
  ]
}